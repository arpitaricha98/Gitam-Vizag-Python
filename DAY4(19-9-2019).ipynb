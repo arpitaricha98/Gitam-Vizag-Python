{
 "cells": [
  {
   "cell_type": "markdown",
   "metadata": {},
   "source": [
    "### String functions\n",
    "- upper() -- will convert the input string into Upper case\n",
    "- lower() -- will convert the input string into lower case"
   ]
  },
  {
   "cell_type": "code",
   "execution_count": 1,
   "metadata": {},
   "outputs": [
    {
     "name": "stdout",
     "output_type": "stream",
     "text": [
      "PYTHON\n",
      "python\n"
     ]
    }
   ],
   "source": [
    "s1=\"python\"\n",
    "print(s1.upper())\n",
    "print(s1.lower())"
   ]
  },
  {
   "cell_type": "markdown",
   "metadata": {},
   "source": [
    "### string Boolean Function\n",
    "- True or false\n",
    "- islower() --True if the string have all characters lower case\n",
    "\n",
    "- isupper()-- True if the string have all characters upper case\n",
    "\n",
    "- istitle() -- True if the string is in title case\n",
    "\n",
    "- isnumeric() -- True if the string has all numbers\n",
    "\n",
    "- isalpha() -- True if string is having only alphabets\n",
    "\n",
    "- isspace() -- True if the string is empty"
   ]
  },
  {
   "cell_type": "code",
   "execution_count": 2,
   "metadata": {},
   "outputs": [
    {
     "name": "stdout",
     "output_type": "stream",
     "text": [
      "True\n",
      "False\n"
     ]
    }
   ],
   "source": [
    "s1='python'\n",
    "print(s1.islower())\n",
    "print(s1.isupper())"
   ]
  },
  {
   "cell_type": "code",
   "execution_count": 3,
   "metadata": {},
   "outputs": [
    {
     "name": "stdout",
     "output_type": "stream",
     "text": [
      "True\n"
     ]
    }
   ],
   "source": [
    "s1='Python Programming'\n",
    "print(s1.istitle())"
   ]
  },
  {
   "cell_type": "code",
   "execution_count": 5,
   "metadata": {},
   "outputs": [
    {
     "name": "stdout",
     "output_type": "stream",
     "text": [
      "True\n",
      "False\n"
     ]
    }
   ],
   "source": [
    "s1='12345'\n",
    "s2='PY234'\n",
    "print(s1.isnumeric())\n",
    "print(s2.isalpha())\n"
   ]
  },
  {
   "cell_type": "code",
   "execution_count": 6,
   "metadata": {},
   "outputs": [
    {
     "name": "stdout",
     "output_type": "stream",
     "text": [
      "True\n",
      "False\n"
     ]
    }
   ],
   "source": [
    "s1=\" \"\n",
    "s2=\"1 2 3\"\n",
    "print(s1.isspace())\n",
    "print(s2.isspace())"
   ]
  },
  {
   "cell_type": "markdown",
   "metadata": {},
   "source": [
    "# String Methods\n",
    "- split()-- returns the list f strings separated by whitespace\n",
    "\n",
    "- replace() -- returns the string replaces word/character\n",
    "\n",
    "- join() -- concatation of strings"
   ]
  },
  {
   "cell_type": "code",
   "execution_count": 7,
   "metadata": {},
   "outputs": [
    {
     "name": "stdout",
     "output_type": "stream",
     "text": [
      "['Python', 'Programming', 'Learn', 'Made', 'Easy']\n"
     ]
    }
   ],
   "source": [
    "s1 ='Python Programming Learn Made Easy'\n",
    "li = s1.split() #Default is string\n",
    "print(li)"
   ]
  },
  {
   "cell_type": "code",
   "execution_count": 8,
   "metadata": {},
   "outputs": [
    {
     "name": "stdout",
     "output_type": "stream",
     "text": [
      "Python Progr@mming Le@rn M@de E@sy\n"
     ]
    }
   ],
   "source": [
    "s1 = \"Python Programming Learn Made Easy\"\n",
    "print(s1.replace('a','@'))"
   ]
  },
  {
   "cell_type": "code",
   "execution_count": 11,
   "metadata": {},
   "outputs": [
    {
     "name": "stdout",
     "output_type": "stream",
     "text": [
      "['Python Progr', 'mming M', 'de E', 'sy']\n"
     ]
    }
   ],
   "source": [
    "s1='Python Programming Made Easy'\n",
    "li=s1.split('a')\n",
    "print (li)"
   ]
  },
  {
   "cell_type": "code",
   "execution_count": 12,
   "metadata": {},
   "outputs": [
    {
     "name": "stdout",
     "output_type": "stream",
     "text": [
      "P y t h o n\n"
     ]
    }
   ],
   "source": [
    "s1=\"Python\"\n",
    "print(\" \".join(s1))"
   ]
  },
  {
   "cell_type": "markdown",
   "metadata": {},
   "source": [
    "### String Formatting\n",
    "- classic version\n",
    "- current version python"
   ]
  },
  {
   "cell_type": "code",
   "execution_count": 13,
   "metadata": {},
   "outputs": [
    {
     "name": "stdout",
     "output_type": "stream",
     "text": [
      "Python Programming\n"
     ]
    }
   ],
   "source": [
    "#classic version(c or c++)\n",
    "li=[\"Python\",\"Programming\"]\n",
    "print('%s %s' %(li[0],li[1]))"
   ]
  },
  {
   "cell_type": "code",
   "execution_count": 15,
   "metadata": {},
   "outputs": [
    {
     "name": "stdout",
     "output_type": "stream",
     "text": [
      "1 2 3 4\n"
     ]
    }
   ],
   "source": [
    "li=[1,2,3,4]\n",
    "print('%d %d %d %d' %(li[0],li[1],li[2],li[3]))"
   ]
  },
  {
   "cell_type": "code",
   "execution_count": 23,
   "metadata": {},
   "outputs": [
    {
     "name": "stdout",
     "output_type": "stream",
     "text": [
      "List item 0:Python \n",
      "list item 1:Programming\n"
     ]
    }
   ],
   "source": [
    "# format\n",
    "li =[\"Python\", \"Programming\"]\n",
    "print(\"List item 0:{0} \\nlist item 1:{1}\".format(li[0],li[1]))"
   ]
  },
  {
   "cell_type": "markdown",
   "metadata": {},
   "source": [
    "### Data Structures\n",
    "- List\n",
    "- Tuples\n",
    "- Dictionaries\n"
   ]
  },
  {
   "cell_type": "markdown",
   "metadata": {},
   "source": [
    "#### Dictionaries\n",
    "- It works on concept of unique data\n",
    "- Key,Value is the unique identifier a value\n",
    "- Each key is separated from value colon(:)\n",
    "- Each key and value is separated by comma(,)\n",
    "- Dictionaries are enclosed with curly braces({})"
   ]
  },
  {
   "cell_type": "code",
   "execution_count": 30,
   "metadata": {},
   "outputs": [
    {
     "name": "stdout",
     "output_type": "stream",
     "text": [
      "{'Name': 'Gitam', 'EmailId': 'gitamvizag@gmail.com', 'Address': 'Vizag'}\n"
     ]
    }
   ],
   "source": [
    "d1={\"Name\":\"Gitam\",\"EmailId\":\"gitamvizag@gmail.com\",\"Address\":\"Vizag\"}\n",
    "print(d1)"
   ]
  },
  {
   "cell_type": "code",
   "execution_count": 31,
   "metadata": {},
   "outputs": [
    {
     "data": {
      "text/plain": [
       "'gitamvizag@gmail.com'"
      ]
     },
     "execution_count": 31,
     "metadata": {},
     "output_type": "execute_result"
    }
   ],
   "source": [
    "d1[\"EmailId\"]  #access the specific key value"
   ]
  },
  {
   "cell_type": "code",
   "execution_count": 33,
   "metadata": {},
   "outputs": [],
   "source": [
    "d1[\"EmailId\"] =\"Gitam@hotmail.com\"  #update the value using key"
   ]
  },
  {
   "cell_type": "code",
   "execution_count": 34,
   "metadata": {},
   "outputs": [
    {
     "data": {
      "text/plain": [
       "'Gitam@hotmail.com'"
      ]
     },
     "execution_count": 34,
     "metadata": {},
     "output_type": "execute_result"
    }
   ],
   "source": [
    "d1[\"EmailId\"]"
   ]
  },
  {
   "cell_type": "code",
   "execution_count": 35,
   "metadata": {},
   "outputs": [
    {
     "name": "stdout",
     "output_type": "stream",
     "text": [
      "dict_keys(['Name', 'EmailId', 'Address'])\n"
     ]
    }
   ],
   "source": [
    "li=d1.keys()\n",
    "print(li)"
   ]
  },
  {
   "cell_type": "code",
   "execution_count": 36,
   "metadata": {},
   "outputs": [
    {
     "data": {
      "text/plain": [
       "dict_values(['Gitam', 'Gitam@hotmail.com', 'Vizag'])"
      ]
     },
     "execution_count": 36,
     "metadata": {},
     "output_type": "execute_result"
    }
   ],
   "source": [
    "d1.values()\n"
   ]
  },
  {
   "cell_type": "code",
   "execution_count": 42,
   "metadata": {},
   "outputs": [
    {
     "name": "stdout",
     "output_type": "stream",
     "text": [
      "{'Name': 'Gitam', 'Address': 'Vizag'}\n"
     ]
    }
   ],
   "source": [
    "print(d1)"
   ]
  },
  {
   "cell_type": "markdown",
   "metadata": {},
   "source": [
    "###  Contact Application\n",
    "- Add Contact Details"
   ]
  },
  {
   "cell_type": "code",
   "execution_count": 43,
   "metadata": {},
   "outputs": [
    {
     "name": "stdout",
     "output_type": "stream",
     "text": [
      "contact details are added succesfully\n",
      "contact details are added succesfully\n",
      "name is already exists\n"
     ]
    }
   ],
   "source": [
    "contacts ={} #empty dict objects\n",
    "#Let's create a function to Add Contact Details\n",
    "def addcontact(name,phone):\n",
    "    if name not in contacts :#cond to check name is exists or not\n",
    "        contacts[name]= phone\n",
    "        print(\"contact details are added succesfully\")\n",
    "    else:\n",
    "        print(\"name is already exists\")\n",
    "    return\n",
    "addcontact('Dinesh','9437434567')\n",
    "addcontact('Ajay','8895525889')\n",
    "addcontact('Dinesh','7008799187')"
   ]
  },
  {
   "cell_type": "code",
   "execution_count": 47,
   "metadata": {},
   "outputs": [
    {
     "name": "stdout",
     "output_type": "stream",
     "text": [
      "Dinesh  :  9437434567\n",
      "Gitam does not present\n",
      "Ajay  :  8895525889\n"
     ]
    }
   ],
   "source": [
    "def searchcontact(name):\n",
    "    if name in contacts:\n",
    "        print(name,\" : \",contacts[name])\n",
    "    else:\n",
    "        print('{0} does not present'.format(name))\n",
    "        #print('%s doesnot present'% name)\n",
    "    return\n",
    "searchcontact('Dinesh')\n",
    "searchcontact('Gitam')\n",
    "searchcontact('Ajay')"
   ]
  },
  {
   "cell_type": "code",
   "execution_count": 50,
   "metadata": {},
   "outputs": [
    {
     "name": "stdout",
     "output_type": "stream",
     "text": [
      "3 Contacts are added\n"
     ]
    }
   ],
   "source": [
    "#import new contact details\n",
    "#merge the previous details with new details\n",
    "def importcontacts(newcontacts):\n",
    "    contacts.update(newcontacts)\n",
    "    print(len(newcontacts.keys()),'Contacts are added')\n",
    "    return\n",
    "newcontacts={'Gitam':9437433664,'Anil':8895525977,'Python':7008799810}\n",
    "importcontacts(newcontacts)"
   ]
  },
  {
   "cell_type": "code",
   "execution_count": 51,
   "metadata": {},
   "outputs": [
    {
     "data": {
      "text/plain": [
       "{'Dinesh': '9437434567',\n",
       " 'Ajay': '8895525889',\n",
       " 'Gitam': 9437433664,\n",
       " 'Anil': 8895525977,\n",
       " 'Python': 7008799810}"
      ]
     },
     "execution_count": 51,
     "metadata": {},
     "output_type": "execute_result"
    }
   ],
   "source": [
    "contacts"
   ]
  },
  {
   "cell_type": "code",
   "execution_count": 52,
   "metadata": {},
   "outputs": [
    {
     "name": "stdout",
     "output_type": "stream",
     "text": [
      "Ajay Updated successfully\n",
      "Naveen Not exists\n"
     ]
    }
   ],
   "source": [
    "def modifycontact(name,phone):\n",
    "    if name in contacts:\n",
    "        contacts[name]=phone\n",
    "        print(name,'Updated successfully')\n",
    "    else:\n",
    "        print(name,'Not exists')\n",
    "    return\n",
    "modifycontact('Ajay',9816543210)\n",
    "modifycontact('Naveen',876377434)"
   ]
  },
  {
   "cell_type": "code",
   "execution_count": 54,
   "metadata": {},
   "outputs": [
    {
     "name": "stdout",
     "output_type": "stream",
     "text": [
      "Anil Deleted succesfully\n"
     ]
    }
   ],
   "source": [
    "def deletecontact(name):\n",
    "    if name in contacts:\n",
    "        del contacts[name]\n",
    "        print(name,'Deleted succesfully')\n",
    "    else:\n",
    "        print(name,'not exists')\n",
    "    return\n",
    "deletecontact('Anil')"
   ]
  },
  {
   "cell_type": "code",
   "execution_count": 55,
   "metadata": {},
   "outputs": [
    {
     "data": {
      "text/plain": [
       "{'Dinesh': '9437434567',\n",
       " 'Ajay': 9816543210,\n",
       " 'Gitam': 9437433664,\n",
       " 'Python': 7008799810}"
      ]
     },
     "execution_count": 55,
     "metadata": {},
     "output_type": "execute_result"
    }
   ],
   "source": [
    "contacts"
   ]
  },
  {
   "cell_type": "markdown",
   "metadata": {},
   "source": [
    "### Tuples\n",
    "- Tuples enclosed with paranthesis()\n",
    "\n",
    "### Differences between Tuples and List\n",
    "- list are mutable -- can be charged/modify\n",
    "- Read & write the data\n",
    "- Tuples are immutable -- cant br charged \n",
    "- Read data only"
   ]
  },
  {
   "cell_type": "code",
   "execution_count": 56,
   "metadata": {},
   "outputs": [
    {
     "name": "stdout",
     "output_type": "stream",
     "text": [
      "(1, 2, 3, 4, 5)\n"
     ]
    }
   ],
   "source": [
    "t1= (1,2,3,4,5)\n",
    "print(t1)"
   ]
  },
  {
   "cell_type": "markdown",
   "metadata": {},
   "source": [
    " ### Standard libraries\n",
    " -Regular Expressions\n",
    "     - To validate the Indian Mobile\n",
    "     - To validate the EmailId\n",
    "     -To validate the Username\n",
    "     - To validate the password\n",
    " -Understanding the Regular Expression\n",
    " \n",
    "   -[8-9] -- Any digit Matching\n",
    "   \n",
    "   -[a-z] --Any lower case matching\n",
    "   \n",
    "   -[A-z] -- Any uppercase matching\n",
    "   \n",
    "   - cap symbol is used to represent the start of regular expressions"
   ]
  },
  {
   "cell_type": "code",
   "execution_count": 58,
   "metadata": {},
   "outputs": [
    {
     "name": "stdout",
     "output_type": "stream",
     "text": [
      "True\n",
      "False\n"
     ]
    }
   ],
   "source": [
    "#function to test the two digit number as input\n",
    "#True --- Input two digit number\n",
    "#False --- Input not a digit number\n",
    "import re\n",
    "def twoDigitMatching(n):\n",
    "    pattern ='^[0-9]{2}$'\n",
    "    n= str(n)\n",
    "    if re.match(pattern,n):\n",
    "        return True\n",
    "    return False\n",
    "print(twoDigitMatching(12)) #true\n",
    "print(twoDigitMatching(123)) #false"
   ]
  },
  {
   "cell_type": "code",
   "execution_count": null,
   "metadata": {},
   "outputs": [],
   "source": [
    "#Regular expression for username\n",
    "#username -- should contain lower and upper case characters\n",
    "#length -- Min 5 Max 12\n",
    "def validateUsername(s):\n",
    "    pattern ='^[a-zA-Z]{5,12}$'\n",
    "    if re.match(pattern,s):\n",
    "        return True\n",
    "    return False\n",
    "print(validateUsername('Anilkumar')) #True\n",
    "print(validateUsername('Anil'))   #false\n",
    "print(validateUsername('GitamVizagPythonProgramming')) #false"
   ]
  },
  {
   "cell_type": "markdown",
   "metadata": {},
   "source": [
    " ### Regular Expression\n",
    "-Regular expression for rollnumber\n",
    "   - Example : 1525A0987 #valid\n",
    "   - Example: 134567A373 #notvalid\n",
    "  -Regular Expression for password\n",
    "   "
   ]
  },
  {
   "cell_type": "markdown",
   "metadata": {},
   "source": [
    "# Regular expression for Indian mobile\n",
    "- "
   ]
  },
  {
   "cell_type": "code",
   "execution_count": 63,
   "metadata": {},
   "outputs": [
    {
     "data": {
      "text/plain": [
       "True"
      ]
     },
     "execution_count": 63,
     "metadata": {},
     "output_type": "execute_result"
    }
   ],
   "source": [
    "import re\n",
    "def validateIndianPhone(n):\n",
    "    pattern = '^[6-9][0-9]{9}$[^]|^[0][6-9][0-9]{9}$|^[+{9}]'\n",
    "    n=str(n)\n",
    "    if re.match(pattern,n):\n",
    "        return True\n",
    "    return False\n",
    "validateIndianPhone('918763777424') #True"
   ]
  },
  {
   "cell_type": "markdown",
   "metadata": {},
   "source": [
    "### Validate the EmailID\n",
    "- Example :username@DomainName.extension\n",
    "- Example :dsps@gmail.com\n",
    "- Username :\n",
    "         - Len of string will be [6-15]\n",
    "        - no spl characters except underscore(_) and dot(.)\n",
    "        - Username shouldnot begin with underscore(_)\n",
    "        - All characters set Digits,Lower case and Upper case \n",
    "               - Example :Anil_1889\n",
    " - Domain Name\n",
    "  -Len of string will be [3-18]\n",
    "  -No spls characters\n",
    "  \n",
    "  -Characters set will be Digits,lower case and upper case \n",
    "     - Examples :gmail,hotmail,ymail,rediff and etc.....\n",
    "     \n",
    "    -Extensions:\n",
    "      -Len of string will be[2-4]\n",
    "      - No spl characters allowed\n",
    "      - Character set will Lower case characters\n",
    "         -Example :com in au uk\n",
    "      \n",
    "     "
   ]
  },
  {
   "cell_type": "code",
   "execution_count": null,
   "metadata": {},
   "outputs": [],
   "source": [
    "#username RE:{0-9a-zA}{0-9a-zA-Z_.}{5,34}\n",
    "#Domain Name RE: [a-z0-9]{3,18}\n",
    "#Extension RE : [a-z]{2,4}\n"
   ]
  },
  {
   "cell_type": "code",
   "execution_count": 66,
   "metadata": {},
   "outputs": [
    {
     "data": {
      "text/plain": [
       "False"
      ]
     },
     "execution_count": 66,
     "metadata": {},
     "output_type": "execute_result"
    }
   ],
   "source": [
    "def validateEmail(email):\n",
    "    pattern = '^[0-9a-zA-Z][0-9a-zA-Z_.]{5,14}[@][a-z0-9]{3,18}[.][a-z]{2,4}$'\n",
    "    if re.match(pattern,email):\n",
    "        return True\n",
    "    return False\n",
    "validateEmail('arpitasamantaray98@gmail.com')"
   ]
  },
  {
   "cell_type": "markdown",
   "metadata": {},
   "source": [
    "#Python Graphics\n",
    "- Lib-turtle"
   ]
  },
  {
   "cell_type": "markdown",
   "metadata": {},
   "source": [
    "### Package ,Module and Sub Package\n",
    " - Package\n",
    "    -A collection of Modules(single Python file.py)\n",
    "# Module\n",
    " -  A single Python file contains group of functions"
   ]
  },
  {
   "cell_type": "code",
   "execution_count": 67,
   "metadata": {},
   "outputs": [
    {
     "data": {
      "text/plain": [
       "123"
      ]
     },
     "execution_count": 67,
     "metadata": {},
     "output_type": "execute_result"
    }
   ],
   "source": [
    "import math\n",
    "math.floor(123.456)"
   ]
  },
  {
   "cell_type": "code",
   "execution_count": 76,
   "metadata": {},
   "outputs": [
    {
     "name": "stdout",
     "output_type": "stream",
     "text": [
      "36 27 75 15 0 61 96 55 51 79 "
     ]
    }
   ],
   "source": [
    "#Import random package\n",
    "import random\n",
    "def genrateRandNum(n,lb,ub):\n",
    "    for i in range(0,n):\n",
    "        print(random.randint(lb,ub),end=' ')\n",
    "    return\n",
    "genrateRandNum(10,0,100)"
   ]
  },
  {
   "cell_type": "code",
   "execution_count": 83,
   "metadata": {},
   "outputs": [],
   "source": [
    "#Draw a square\n",
    "import turtle as tt\n",
    "a1=tt.Turtle()\n",
    "a1.forward(150)\n",
    "a1.right(90)\n",
    "a1.forward(150)\n",
    "a1.right(90)\n",
    "a1.forward(150)\n",
    "a1.right(90)\n",
    "a1.forward(150)\n",
    "a1.right(90)\n",
    "tt.done()\n"
   ]
  },
  {
   "cell_type": "code",
   "execution_count": 84,
   "metadata": {},
   "outputs": [
    {
     "ename": "SyntaxError",
     "evalue": "invalid syntax (<ipython-input-84-a64c086fc589>, line 2)",
     "output_type": "error",
     "traceback": [
      "\u001b[1;36m  File \u001b[1;32m\"<ipython-input-84-a64c086fc589>\"\u001b[1;36m, line \u001b[1;32m2\u001b[0m\n\u001b[1;33m    Import Trutle as t\u001b[0m\n\u001b[1;37m                ^\u001b[0m\n\u001b[1;31mSyntaxError\u001b[0m\u001b[1;31m:\u001b[0m invalid syntax\n"
     ]
    }
   ],
   "source": [
    "# Draw the square using any loop\n",
    "Import Trutle as t\n",
    "a1=t.turtle()\n",
    "for i in range(40):\n",
    "    a1.forward(50)\n",
    "    a1.right(144)\n",
    "t.done()"
   ]
  },
  {
   "cell_type": "code",
   "execution_count": null,
   "metadata": {},
   "outputs": [],
   "source": []
  },
  {
   "cell_type": "code",
   "execution_count": null,
   "metadata": {},
   "outputs": [],
   "source": []
  },
  {
   "cell_type": "code",
   "execution_count": null,
   "metadata": {},
   "outputs": [],
   "source": []
  },
  {
   "cell_type": "code",
   "execution_count": null,
   "metadata": {},
   "outputs": [],
   "source": []
  },
  {
   "cell_type": "code",
   "execution_count": null,
   "metadata": {},
   "outputs": [],
   "source": []
  },
  {
   "cell_type": "code",
   "execution_count": null,
   "metadata": {},
   "outputs": [],
   "source": []
  },
  {
   "cell_type": "code",
   "execution_count": null,
   "metadata": {},
   "outputs": [],
   "source": []
  },
  {
   "cell_type": "code",
   "execution_count": null,
   "metadata": {},
   "outputs": [],
   "source": []
  }
 ],
 "metadata": {
  "kernelspec": {
   "display_name": "Python 3",
   "language": "python",
   "name": "python3"
  },
  "language_info": {
   "codemirror_mode": {
    "name": "ipython",
    "version": 3
   },
   "file_extension": ".py",
   "mimetype": "text/x-python",
   "name": "python",
   "nbconvert_exporter": "python",
   "pygments_lexer": "ipython3",
   "version": "3.7.3"
  }
 },
 "nbformat": 4,
 "nbformat_minor": 2
}
